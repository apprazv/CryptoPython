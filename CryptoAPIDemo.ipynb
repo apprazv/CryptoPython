{
 "cells": [
  {
   "cell_type": "code",
   "execution_count": 18,
   "metadata": {},
   "outputs": [],
   "source": [
    "## Load Appropriate Packages ##\n",
    "import requests\n",
    "import json\n",
    "import time\n",
    "from pycoingecko import CoinGeckoAPI\n",
    "from slack_sdk import WebClient\n",
    "from slack_sdk.errors import SlackApiError"
   ]
  },
  {
   "cell_type": "code",
   "execution_count": 19,
   "metadata": {},
   "outputs": [
    {
     "data": {
      "text/plain": [
       "{'ethereum': {'usd': 4420.84}}"
      ]
     },
     "execution_count": 19,
     "metadata": {},
     "output_type": "execute_result"
    }
   ],
   "source": [
    "## Coin Gecko API ##\n",
    "cg = CoinGeckoAPI()\n",
    "eth_price = cg.get_price(ids='ethereum', vs_currencies='usd')\n",
    "eth_price"
   ]
  },
  {
   "cell_type": "code",
   "execution_count": 3,
   "metadata": {},
   "outputs": [],
   "source": [
    "## Connect to Slack ##\n",
    "slack_client = WebClient(token='')"
   ]
  },
  {
   "cell_type": "code",
   "execution_count": 20,
   "metadata": {},
   "outputs": [],
   "source": [
    "## Define Slack Token ##\n",
    "def slack_trigger(slack_chat):\n",
    "    try:\n",
    "        response = slack_client.chat_postMessage(channel='#demo', text=slack_chat,username = \"python_bot\")\n",
    "    except SlackApiError as e:\n",
    "        assert e.response[\"ok\"] is False\n",
    "        assert e.response[\"error\"]  # str like 'invalid_auth', 'channel_not_found'\n",
    "        print(f\"Got an error: {e.response['error']}\")  "
   ]
  },
  {
   "cell_type": "code",
   "execution_count": 26,
   "metadata": {},
   "outputs": [
    {
     "data": {
      "text/plain": [
       "584.8347966458297"
      ]
     },
     "execution_count": 26,
     "metadata": {},
     "output_type": "execute_result"
    }
   ],
   "source": [
    "## ThorSwap Exchange ##\n",
    "thorswap_base = \"https://midgard.thorchain.info/v2/\"\n",
    "thorswap_pool = \"pool/\"\n",
    "bch_token = \"BCH.BCH\"\n",
    "\n",
    "def thorswap_api(token,datatype):\n",
    "    thorswap_api = thorswap_base + thorswap_pool + token\n",
    "    thorswap_get = requests.get(thorswap_api)\n",
    "    thorswap_json = json.loads(thorswap_get.text)\n",
    "    thorswap_price = thorswap_json['assetPriceUSD']\n",
    "    if datatype == \"json\":\n",
    "        return(thorswap_json)\n",
    "    else:\n",
    "        return(float(thorswap_price))\n",
    "\n",
    "thorswap_api(bch_token,\"price\")"
   ]
  },
  {
   "cell_type": "code",
   "execution_count": 25,
   "metadata": {},
   "outputs": [
    {
     "data": {
      "text/plain": [
       "571.1812831500644"
      ]
     },
     "execution_count": 25,
     "metadata": {},
     "output_type": "execute_result"
    }
   ],
   "source": [
    "## PancakeSwap ##\n",
    "bch_token_id = '0x8ff795a6f4d97e7887c79bea79aba5cc76444adf'\n",
    "\n",
    "def pancake_api(token_id):\n",
    "    pancake_api = \"https://api.pancakeswap.info/api/v2/tokens/\"\n",
    "    pancake_get = requests.get(url = pancake_api + token_id)\n",
    "    pancake_dict = json.loads(pancake_get.text)\n",
    "    pancake_price = pancake_dict['data']['price']\n",
    "    return(float(pancake_price))\n",
    "\n",
    "pancake_api(bch_token_id)"
   ]
  },
  {
   "cell_type": "code",
   "execution_count": 27,
   "metadata": {},
   "outputs": [
    {
     "name": "stdout",
     "output_type": "stream",
     "text": [
      "Slack Sent...\n",
      "Slack Sent...\n",
      "Slack Sent...\n",
      "Slack Sent...\n",
      "Slack Sent...\n",
      "Slack Sent...\n",
      "Slack Sent...\n",
      "Slack Sent...\n",
      "Slack Sent...\n",
      "Slack Sent...\n",
      "Slack Sent...\n"
     ]
    }
   ],
   "source": [
    "## Set Bot Timer ##\n",
    "bot_timer = 11\n",
    "\n",
    "## Run Bot ##\n",
    "for time_int in range(bot_timer):\n",
    "    thorswap_exchange_price = float(thorswap_api(bch_token,'price'))\n",
    "    pancake_exchange_price = float(pancake_api(bch_token_id))\n",
    "    exchange_delta = abs(thorswap_exchange_price - pancake_exchange_price)\n",
    "    slack_verbage = \"Difference is $\" + str(exchange_delta)\n",
    "    slack_trigger(slack_verbage)\n",
    "    print(\"Slack Sent...\")\n",
    "    time.sleep(2)"
   ]
  }
 ],
 "metadata": {
  "kernelspec": {
   "display_name": "Python 3",
   "language": "python",
   "name": "python3"
  },
  "language_info": {
   "codemirror_mode": {
    "name": "ipython",
    "version": 3
   },
   "file_extension": ".py",
   "mimetype": "text/x-python",
   "name": "python",
   "nbconvert_exporter": "python",
   "pygments_lexer": "ipython3",
   "version": "3.7.6"
  }
 },
 "nbformat": 4,
 "nbformat_minor": 4
}
